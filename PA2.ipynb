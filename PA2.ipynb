{
 "cells": [
  {
   "cell_type": "markdown",
   "metadata": {},
   "source": [
    "# Programming Assignment 2"
   ]
  },
  {
   "cell_type": "markdown",
   "metadata": {},
   "source": [
    "Problem #1 "
   ]
  },
  {
   "cell_type": "code",
   "execution_count": 58,
   "metadata": {},
   "outputs": [
    {
     "name": "stdout",
     "output_type": "stream",
     "text": [
      "0\n",
      "1\n",
      "2\n",
      "3\n",
      "4\n",
      "5\n",
      "6 *\n",
      "7\n",
      "8\n",
      "9 *\n",
      "10\n",
      "11\n",
      "12 *\n",
      "13\n",
      "14\n",
      "15 *\n",
      "16\n",
      "17\n",
      "18 *\n",
      "19\n",
      "20\n",
      "21 *\n",
      "22\n",
      "23\n",
      "24 *\n",
      "25\n",
      "26\n",
      "27 *\n",
      "28\n",
      "29\n",
      "30 *\n",
      "31\n",
      "32\n",
      "33 *\n",
      "34\n",
      "35\n",
      "36 *\n",
      "37\n",
      "38\n",
      "39 *\n",
      "40\n",
      "41\n",
      "42 *\n",
      "43\n",
      "44\n",
      "45 *\n",
      "46\n",
      "47\n",
      "48 *\n",
      "49\n",
      "50\n",
      "51 *\n",
      "52\n",
      "53\n",
      "54 *\n",
      "55\n",
      "56\n",
      "57 *\n",
      "58\n",
      "59\n",
      "60 *\n",
      "61\n",
      "62\n",
      "63 *\n",
      "64\n",
      "65\n",
      "66 *\n",
      "67\n",
      "68\n",
      "69 *\n",
      "70\n",
      "71\n",
      "72 *\n",
      "73\n",
      "74\n",
      "75 *\n",
      "76\n",
      "77\n",
      "78 *\n",
      "79\n",
      "80\n",
      "81 *\n",
      "82\n",
      "83\n",
      "84 *\n",
      "85\n",
      "86\n",
      "87 *\n",
      "88\n",
      "89\n",
      "90 *\n",
      "91\n",
      "92\n",
      "93 *\n",
      "94\n",
      "95\n",
      "96 *\n",
      "97\n",
      "98\n",
      "99 *\n"
     ]
    }
   ],
   "source": [
    "for num in range(100):\n",
    "    if (num>=0 and num%3!=0):\n",
    "        print(num)\n",
    "    if (num<=3 and num%3==0):\n",
    "        print(num)\n",
    "    if (num>3 and num%3==0):\n",
    "        print (num, end =' ')\n",
    "        print(\"*\")"
   ]
  },
  {
   "cell_type": "markdown",
   "metadata": {},
   "source": [
    "Problem #2"
   ]
  },
  {
   "cell_type": "code",
   "execution_count": 74,
   "metadata": {},
   "outputs": [
    {
     "name": "stdout",
     "output_type": "stream",
     "text": [
      "enter an age: 65\n",
      "senior citizen\n",
      "Enter a number (0 to quit): 64\n",
      "adult\n",
      "Enter a number (0 to quit): 18\n",
      "adult\n",
      "Enter a number (0 to quit): 17\n",
      "minor\n",
      "Enter a number (0 to quit): 20\n",
      "adult\n",
      "Enter a number (0 to quit): 2\n",
      "minor\n",
      "Enter a number (0 to quit): 0\n"
     ]
    }
   ],
   "source": [
    "age = int(input(\"enter an age: \"))\n",
    "\n",
    "while age > 0: \n",
    "    if age < 18:\n",
    "        print (\"minor\")\n",
    "    if age in range (18,65):\n",
    "        print(\"adult\")\n",
    "    if age >= 65:\n",
    "        print (\"senior citizen\")\n",
    "    age = int(input(\"Enter a number (0 to quit): \"))"
   ]
  },
  {
   "cell_type": "markdown",
   "metadata": {},
   "source": [
    "Problem #3"
   ]
  },
  {
   "cell_type": "code",
   "execution_count": 71,
   "metadata": {},
   "outputs": [
    {
     "name": "stdout",
     "output_type": "stream",
     "text": [
      "98 senior citizen\n",
      "20 adult\n",
      "12 minor\n",
      "87 senior citizen\n",
      "34 adult\n",
      "62 adult\n"
     ]
    }
   ],
   "source": [
    "age = [98,20,12,87,34,62]\n",
    "\n",
    "for num in age:\n",
    "    if num < 18:\n",
    "        print(num,\"minor\")\n",
    "    if num in range(18,64):\n",
    "        print(num, \"adult\")\n",
    "    if num >= 65:\n",
    "        print(num, \"senior citizen\")"
   ]
  }
 ],
 "metadata": {
  "kernelspec": {
   "display_name": "Python 3",
   "language": "python",
   "name": "python3"
  },
  "language_info": {
   "codemirror_mode": {
    "name": "ipython",
    "version": 3
   },
   "file_extension": ".py",
   "mimetype": "text/x-python",
   "name": "python",
   "nbconvert_exporter": "python",
   "pygments_lexer": "ipython3",
   "version": "3.8.3"
  }
 },
 "nbformat": 4,
 "nbformat_minor": 4
}
